{
 "cells": [
  {
   "cell_type": "code",
   "execution_count": 1,
   "metadata": {},
   "outputs": [
    {
     "name": "stderr",
     "output_type": "stream",
     "text": [
      "[*********************100%***********************]  10 of 10 completed\n"
     ]
    }
   ],
   "source": [
    "import yfinance as yf\n",
    "import pandas as pd\n",
    "\n",
    "\n",
    "tickers = [\"AAPL\", \"MSFT\", \"GOOGL\", \"AMZN\", \"META\", \"NVDA\", \"TSLA\", \"ADBE\", \"NFLX\", \"INTC\"]\n",
    "\n",
    "\n",
    "start_date = \"2013-01-01\"\n",
    "end_date = \"2024-11-07\"  \n",
    "\n",
    "\n",
    "data = yf.download(tickers, start=start_date, end=end_date)\n",
    "\n",
    "\n",
    "adj_close_data = data['Adj Close'].round(4)\n",
    "\n",
    "\n",
    "adj_close_data.index = adj_close_data.index.date\n",
    "\n",
    "\n",
    "adj_close_data.to_csv(\"nasdaq_top_tech.csv\")\n"
   ]
  },
  {
   "cell_type": "code",
   "execution_count": 12,
   "metadata": {},
   "outputs": [
    {
     "name": "stderr",
     "output_type": "stream",
     "text": [
      "[*********************100%***********************]  1 of 1 completed\n"
     ]
    }
   ],
   "source": [
    "import yfinance as yf\n",
    "import pandas as pd\n",
    "\n",
    "ticker = \"NVDA\"\n",
    "start_date = \"2017-11-07\"\n",
    "end_date = \"2024-11-07\"\n",
    "\n",
    "# Tải dữ liệu\n",
    "data = yf.download(ticker, start=start_date, end=end_date)\n",
    "\n",
    "# Đặt lại chỉ số để đưa cột 'Date' vào DataFrame\n",
    "data = data.reset_index()\n",
    "\n",
    "# Thêm cột Ticker\n",
    "data['Ticker'] = ticker\n",
    "\n",
    "# Chọn các cột theo thứ tự mong muốn\n",
    "data = data[['Date', 'Open', 'High', 'Low', 'Close', 'Adj Close', 'Volume']]\n",
    "\n",
    "# Lưu vào file CSV\n",
    "data.to_csv('stock_data_NVDA.csv', index=False)\n"
   ]
  },
  {
   "cell_type": "code",
   "execution_count": null,
   "metadata": {},
   "outputs": [],
   "source": []
  }
 ],
 "metadata": {
  "kernelspec": {
   "display_name": "myenv",
   "language": "python",
   "name": "python3"
  },
  "language_info": {
   "codemirror_mode": {
    "name": "ipython",
    "version": 3
   },
   "file_extension": ".py",
   "mimetype": "text/x-python",
   "name": "python",
   "nbconvert_exporter": "python",
   "pygments_lexer": "ipython3",
   "version": "3.13.0"
  }
 },
 "nbformat": 4,
 "nbformat_minor": 2
}
